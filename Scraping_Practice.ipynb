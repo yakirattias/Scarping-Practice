{
 "cells": [
  {
   "cell_type": "code",
   "execution_count": 2,
   "metadata": {},
   "outputs": [],
   "source": [
    "from bs4 import BeautifulSoup\n",
    "import requests\n",
    "import pandas as pd\n"
   ]
  },
  {
   "cell_type": "markdown",
   "metadata": {},
   "source": [
    "סעיפים 1+2"
   ]
  },
  {
   "cell_type": "code",
   "execution_count": 3,
   "metadata": {},
   "outputs": [],
   "source": [
    "URL=\"https://books.toscrape.com/\"\n",
    "page= requests.get(URL)\n",
    "bs= BeautifulSoup(page.content, \"html.parser\")\n",
    "\n",
    "all=bs.find_all(\"article\", class_=\"product_pod\")\n",
    "# name=all.find(\"img\").get('alt')\n",
    "# print(name)\n",
    "# stars=all.find(\"p\", class_=\"star-rating\").get(\"class\")[1]\n",
    "# print(stars)\n",
    "# price=all.find(\"p\", class_=\"price_color\").text[1:]\n",
    "# print(price)\n",
    "\n",
    "\n",
    "\n"
   ]
  },
  {
   "cell_type": "code",
   "execution_count": 4,
   "metadata": {},
   "outputs": [
    {
     "data": {
      "text/html": [
       "<div>\n",
       "<style scoped>\n",
       "    .dataframe tbody tr th:only-of-type {\n",
       "        vertical-align: middle;\n",
       "    }\n",
       "\n",
       "    .dataframe tbody tr th {\n",
       "        vertical-align: top;\n",
       "    }\n",
       "\n",
       "    .dataframe thead th {\n",
       "        text-align: right;\n",
       "    }\n",
       "</style>\n",
       "<table border=\"1\" class=\"dataframe\">\n",
       "  <thead>\n",
       "    <tr style=\"text-align: right;\">\n",
       "      <th></th>\n",
       "      <th>Title</th>\n",
       "      <th>Stars</th>\n",
       "      <th>Price</th>\n",
       "    </tr>\n",
       "  </thead>\n",
       "  <tbody>\n",
       "    <tr>\n",
       "      <th>0</th>\n",
       "      <td>A Light in the Attic</td>\n",
       "      <td>Three</td>\n",
       "      <td>51.77</td>\n",
       "    </tr>\n",
       "    <tr>\n",
       "      <th>1</th>\n",
       "      <td>Tipping the Velvet</td>\n",
       "      <td>One</td>\n",
       "      <td>53.74</td>\n",
       "    </tr>\n",
       "    <tr>\n",
       "      <th>2</th>\n",
       "      <td>Soumission</td>\n",
       "      <td>One</td>\n",
       "      <td>50.10</td>\n",
       "    </tr>\n",
       "    <tr>\n",
       "      <th>3</th>\n",
       "      <td>Sharp Objects</td>\n",
       "      <td>Four</td>\n",
       "      <td>47.82</td>\n",
       "    </tr>\n",
       "    <tr>\n",
       "      <th>4</th>\n",
       "      <td>Sapiens: A Brief History of Humankind</td>\n",
       "      <td>Five</td>\n",
       "      <td>54.23</td>\n",
       "    </tr>\n",
       "    <tr>\n",
       "      <th>5</th>\n",
       "      <td>The Requiem Red</td>\n",
       "      <td>One</td>\n",
       "      <td>22.65</td>\n",
       "    </tr>\n",
       "    <tr>\n",
       "      <th>6</th>\n",
       "      <td>The Dirty Little Secrets of Getting Your Dream...</td>\n",
       "      <td>Four</td>\n",
       "      <td>33.34</td>\n",
       "    </tr>\n",
       "    <tr>\n",
       "      <th>7</th>\n",
       "      <td>The Coming Woman: A Novel Based on the Life of...</td>\n",
       "      <td>Three</td>\n",
       "      <td>17.93</td>\n",
       "    </tr>\n",
       "    <tr>\n",
       "      <th>8</th>\n",
       "      <td>The Boys in the Boat: Nine Americans and Their...</td>\n",
       "      <td>Four</td>\n",
       "      <td>22.60</td>\n",
       "    </tr>\n",
       "    <tr>\n",
       "      <th>9</th>\n",
       "      <td>The Black Maria</td>\n",
       "      <td>One</td>\n",
       "      <td>52.15</td>\n",
       "    </tr>\n",
       "    <tr>\n",
       "      <th>10</th>\n",
       "      <td>Starving Hearts (Triangular Trade Trilogy, #1)</td>\n",
       "      <td>Two</td>\n",
       "      <td>13.99</td>\n",
       "    </tr>\n",
       "    <tr>\n",
       "      <th>11</th>\n",
       "      <td>Shakespeare's Sonnets</td>\n",
       "      <td>Four</td>\n",
       "      <td>20.66</td>\n",
       "    </tr>\n",
       "    <tr>\n",
       "      <th>12</th>\n",
       "      <td>Set Me Free</td>\n",
       "      <td>Five</td>\n",
       "      <td>17.46</td>\n",
       "    </tr>\n",
       "    <tr>\n",
       "      <th>13</th>\n",
       "      <td>Scott Pilgrim's Precious Little Life (Scott Pi...</td>\n",
       "      <td>Five</td>\n",
       "      <td>52.29</td>\n",
       "    </tr>\n",
       "    <tr>\n",
       "      <th>14</th>\n",
       "      <td>Rip it Up and Start Again</td>\n",
       "      <td>Five</td>\n",
       "      <td>35.02</td>\n",
       "    </tr>\n",
       "    <tr>\n",
       "      <th>15</th>\n",
       "      <td>Our Band Could Be Your Life: Scenes from the A...</td>\n",
       "      <td>Three</td>\n",
       "      <td>57.25</td>\n",
       "    </tr>\n",
       "    <tr>\n",
       "      <th>16</th>\n",
       "      <td>Olio</td>\n",
       "      <td>One</td>\n",
       "      <td>23.88</td>\n",
       "    </tr>\n",
       "    <tr>\n",
       "      <th>17</th>\n",
       "      <td>Mesaerion: The Best Science Fiction Stories 18...</td>\n",
       "      <td>One</td>\n",
       "      <td>37.59</td>\n",
       "    </tr>\n",
       "    <tr>\n",
       "      <th>18</th>\n",
       "      <td>Libertarianism for Beginners</td>\n",
       "      <td>Two</td>\n",
       "      <td>51.33</td>\n",
       "    </tr>\n",
       "    <tr>\n",
       "      <th>19</th>\n",
       "      <td>It's Only the Himalayas</td>\n",
       "      <td>Two</td>\n",
       "      <td>45.17</td>\n",
       "    </tr>\n",
       "  </tbody>\n",
       "</table>\n",
       "</div>"
      ],
      "text/plain": [
       "                                                Title  Stars  Price\n",
       "0                                A Light in the Attic  Three  51.77\n",
       "1                                  Tipping the Velvet    One  53.74\n",
       "2                                          Soumission    One  50.10\n",
       "3                                       Sharp Objects   Four  47.82\n",
       "4               Sapiens: A Brief History of Humankind   Five  54.23\n",
       "5                                     The Requiem Red    One  22.65\n",
       "6   The Dirty Little Secrets of Getting Your Dream...   Four  33.34\n",
       "7   The Coming Woman: A Novel Based on the Life of...  Three  17.93\n",
       "8   The Boys in the Boat: Nine Americans and Their...   Four  22.60\n",
       "9                                     The Black Maria    One  52.15\n",
       "10     Starving Hearts (Triangular Trade Trilogy, #1)    Two  13.99\n",
       "11                              Shakespeare's Sonnets   Four  20.66\n",
       "12                                        Set Me Free   Five  17.46\n",
       "13  Scott Pilgrim's Precious Little Life (Scott Pi...   Five  52.29\n",
       "14                          Rip it Up and Start Again   Five  35.02\n",
       "15  Our Band Could Be Your Life: Scenes from the A...  Three  57.25\n",
       "16                                               Olio    One  23.88\n",
       "17  Mesaerion: The Best Science Fiction Stories 18...    One  37.59\n",
       "18                       Libertarianism for Beginners    Two  51.33\n",
       "19                            It's Only the Himalayas    Two  45.17"
      ]
     },
     "execution_count": 4,
     "metadata": {},
     "output_type": "execute_result"
    }
   ],
   "source": [
    "dataframe_books=[]\n",
    "for item in all:\n",
    "    info={}\n",
    "    info['Title'] =item.find(\"img\").get('alt')\n",
    "    info['Stars'] =item.find(\"p\", class_=\"star-rating\").get(\"class\")[1]\n",
    "    info['Price'] =item.find(\"p\", class_=\"price_color\").text[1:]\n",
    "    dataframe_books.append(info)\n",
    "df1 =pd.DataFrame(dataframe_books)\n",
    "df1\n",
    "\n"
   ]
  },
  {
   "cell_type": "code",
   "execution_count": 5,
   "metadata": {},
   "outputs": [
    {
     "data": {
      "text/plain": [
       "Title     object\n",
       "Stars     object\n",
       "Price    float64\n",
       "dtype: object"
      ]
     },
     "execution_count": 5,
     "metadata": {},
     "output_type": "execute_result"
    }
   ],
   "source": [
    "df1['Price'] = pd.to_numeric(df1['Price'], errors='coerce') \n",
    "df1.dtypes\n"
   ]
  },
  {
   "cell_type": "markdown",
   "metadata": {},
   "source": [
    "סעיף 3"
   ]
  },
  {
   "cell_type": "code",
   "execution_count": 6,
   "metadata": {},
   "outputs": [
    {
     "data": {
      "text/html": [
       "<div>\n",
       "<style scoped>\n",
       "    .dataframe tbody tr th:only-of-type {\n",
       "        vertical-align: middle;\n",
       "    }\n",
       "\n",
       "    .dataframe tbody tr th {\n",
       "        vertical-align: top;\n",
       "    }\n",
       "\n",
       "    .dataframe thead th {\n",
       "        text-align: right;\n",
       "    }\n",
       "</style>\n",
       "<table border=\"1\" class=\"dataframe\">\n",
       "  <thead>\n",
       "    <tr style=\"text-align: right;\">\n",
       "      <th></th>\n",
       "      <th>Title</th>\n",
       "      <th>Stars</th>\n",
       "      <th>Price</th>\n",
       "    </tr>\n",
       "  </thead>\n",
       "  <tbody>\n",
       "    <tr>\n",
       "      <th>0</th>\n",
       "      <td>A Light in the Attic</td>\n",
       "      <td>Three</td>\n",
       "      <td>51.77</td>\n",
       "    </tr>\n",
       "    <tr>\n",
       "      <th>1</th>\n",
       "      <td>Tipping the Velvet</td>\n",
       "      <td>One</td>\n",
       "      <td>53.74</td>\n",
       "    </tr>\n",
       "    <tr>\n",
       "      <th>2</th>\n",
       "      <td>Soumission</td>\n",
       "      <td>One</td>\n",
       "      <td>50.10</td>\n",
       "    </tr>\n",
       "    <tr>\n",
       "      <th>3</th>\n",
       "      <td>Sharp Objects</td>\n",
       "      <td>Four</td>\n",
       "      <td>47.82</td>\n",
       "    </tr>\n",
       "    <tr>\n",
       "      <th>4</th>\n",
       "      <td>Sapiens: A Brief History of Humankind</td>\n",
       "      <td>Five</td>\n",
       "      <td>54.23</td>\n",
       "    </tr>\n",
       "    <tr>\n",
       "      <th>...</th>\n",
       "      <td>...</td>\n",
       "      <td>...</td>\n",
       "      <td>...</td>\n",
       "    </tr>\n",
       "    <tr>\n",
       "      <th>995</th>\n",
       "      <td>Our Band Could Be Your Life: Scenes from the A...</td>\n",
       "      <td>Three</td>\n",
       "      <td>57.25</td>\n",
       "    </tr>\n",
       "    <tr>\n",
       "      <th>996</th>\n",
       "      <td>Olio</td>\n",
       "      <td>One</td>\n",
       "      <td>23.88</td>\n",
       "    </tr>\n",
       "    <tr>\n",
       "      <th>997</th>\n",
       "      <td>Mesaerion: The Best Science Fiction Stories 18...</td>\n",
       "      <td>One</td>\n",
       "      <td>37.59</td>\n",
       "    </tr>\n",
       "    <tr>\n",
       "      <th>998</th>\n",
       "      <td>Libertarianism for Beginners</td>\n",
       "      <td>Two</td>\n",
       "      <td>51.33</td>\n",
       "    </tr>\n",
       "    <tr>\n",
       "      <th>999</th>\n",
       "      <td>It's Only the Himalayas</td>\n",
       "      <td>Two</td>\n",
       "      <td>45.17</td>\n",
       "    </tr>\n",
       "  </tbody>\n",
       "</table>\n",
       "<p>1000 rows × 3 columns</p>\n",
       "</div>"
      ],
      "text/plain": [
       "                                                 Title  Stars  Price\n",
       "0                                 A Light in the Attic  Three  51.77\n",
       "1                                   Tipping the Velvet    One  53.74\n",
       "2                                           Soumission    One  50.10\n",
       "3                                        Sharp Objects   Four  47.82\n",
       "4                Sapiens: A Brief History of Humankind   Five  54.23\n",
       "..                                                 ...    ...    ...\n",
       "995  Our Band Could Be Your Life: Scenes from the A...  Three  57.25\n",
       "996                                               Olio    One  23.88\n",
       "997  Mesaerion: The Best Science Fiction Stories 18...    One  37.59\n",
       "998                       Libertarianism for Beginners    Two  51.33\n",
       "999                            It's Only the Himalayas    Two  45.17\n",
       "\n",
       "[1000 rows x 3 columns]"
      ]
     },
     "execution_count": 6,
     "metadata": {},
     "output_type": "execute_result"
    }
   ],
   "source": [
    "from urllib.parse import urljoin\n",
    "URL=\"https://books.toscrape.com/\"\n",
    "dataframe_all=[]\n",
    "for i in range(1,51):\n",
    "    page= requests.get(URL)\n",
    "    bs= BeautifulSoup(page.content, \"html.parser\")\n",
    "    all=bs.find_all(\"article\", class_=\"product_pod\")\n",
    "    for item in all:\n",
    "        info={}\n",
    "        info['Title'] =item.find(\"img\").get('alt')\n",
    "        info['Stars'] =item.find(\"p\", class_=\"star-rating\").get(\"class\")[1]\n",
    "        info['Price'] =item.find(\"p\", class_=\"price_color\").text[1:]\n",
    "        dataframe_all.append(info)\n",
    "    url = urljoin(URL,'/catalogue/page-'+str(i)+'.html')  \n",
    "df_all1=pd.DataFrame(dataframe_all)\n",
    "df_all1\n"
   ]
  },
  {
   "cell_type": "markdown",
   "metadata": {},
   "source": [
    "סעיף 4"
   ]
  },
  {
   "cell_type": "code",
   "execution_count": 7,
   "metadata": {},
   "outputs": [],
   "source": [
    "df_all1.to_csv('books_all.csv',header=True)"
   ]
  },
  {
   "cell_type": "markdown",
   "metadata": {},
   "source": [
    "סעיף 5"
   ]
  },
  {
   "cell_type": "code",
   "execution_count": 8,
   "metadata": {},
   "outputs": [
    {
     "data": {
      "text/plain": [
       "1000"
      ]
     },
     "execution_count": 8,
     "metadata": {},
     "output_type": "execute_result"
    }
   ],
   "source": [
    "df_cheak = pd.read_csv('books_all.csv')\n",
    "len(df_cheak.index)\n"
   ]
  },
  {
   "cell_type": "markdown",
   "metadata": {},
   "source": [
    "סעיף 6"
   ]
  },
  {
   "cell_type": "code",
   "execution_count": 9,
   "metadata": {},
   "outputs": [
    {
     "name": "stdout",
     "output_type": "stream",
     "text": [
      "mean is: 38.0485, std is: 14.759379459585421\n"
     ]
    }
   ],
   "source": [
    "df_all1['Price'] = pd.to_numeric(df_all1['Price'], errors='coerce') \n",
    "mean=df_all1[\"Price\"].mean() #המחיר הממוצע\n",
    "std=df_all1['Price'].std(axis=None, level=None, ddof=1, numeric_only=None)  \n",
    "print(f\"mean is: {mean}, std is: {std}\")\n"
   ]
  },
  {
   "cell_type": "markdown",
   "metadata": {},
   "source": [
    "סעיף 7\n"
   ]
  },
  {
   "cell_type": "code",
   "execution_count": 10,
   "metadata": {},
   "outputs": [
    {
     "name": "stdout",
     "output_type": "stream",
     "text": [
      "mean is:2.85\n"
     ]
    }
   ],
   "source": [
    "df_all1=df_all1.replace('One',1)\n",
    "df_all1=df_all1.replace('Two',2)\n",
    "df_all1=df_all1.replace('Three',3)\n",
    "df_all1=df_all1.replace('Four',4)\n",
    "df_all1=df_all1.replace('Five',5)\n",
    "\n",
    "mean_stars=df_all1[\"Stars\"].mean()\n",
    "print(f\"mean is:{mean_stars}\")\n",
    "\n",
    "\n"
   ]
  },
  {
   "cell_type": "code",
   "execution_count": 11,
   "metadata": {},
   "outputs": [
    {
     "name": "stdout",
     "output_type": "stream",
     "text": [
      " books remain: 700\n",
      " ave price: 42.84 \n",
      " min price: 17.46\n"
     ]
    }
   ],
   "source": [
    "df_new=df_all1[(df_all1['Price']>50) | (df_all1['Stars']>3)]\n",
    "df_new\n",
    "print(f\" books remain: {len(df_new.index)}\\n ave price: {df_new['Price'].mean()} \\n min price: {df_new['Price'].min()}\")\n",
    "df_new.to_csv('books_all_updated.csv',header=True)"
   ]
  }
 ],
 "metadata": {
  "kernelspec": {
   "display_name": "Python 3.10.7 ('.venv': venv)",
   "language": "python",
   "name": "python3"
  },
  "language_info": {
   "codemirror_mode": {
    "name": "ipython",
    "version": 3
   },
   "file_extension": ".py",
   "mimetype": "text/x-python",
   "name": "python",
   "nbconvert_exporter": "python",
   "pygments_lexer": "ipython3",
   "version": "3.10.7 (v3.10.7:6cc6b13308, Sep  5 2022, 14:02:52) [Clang 13.0.0 (clang-1300.0.29.30)]"
  },
  "orig_nbformat": 4,
  "vscode": {
   "interpreter": {
    "hash": "d10b24dfb489614a4957c39bc9647ec7ae3b624bf2ecb32427ac8e99ec32c63d"
   }
  }
 },
 "nbformat": 4,
 "nbformat_minor": 2
}
